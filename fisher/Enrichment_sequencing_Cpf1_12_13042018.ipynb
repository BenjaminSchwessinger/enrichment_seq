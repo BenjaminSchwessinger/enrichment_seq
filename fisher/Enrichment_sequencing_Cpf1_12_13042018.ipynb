{
 "cells": [
  {
   "cell_type": "markdown",
   "metadata": {},
   "source": [
    "Quick notebook to look at the enrichment data of Cpf1 on lamdba phage and wheat"
   ]
  },
  {
   "cell_type": "code",
   "execution_count": 1,
   "metadata": {
    "ExecuteTime": {
     "end_time": "2018-04-16T11:18:17.300122Z",
     "start_time": "2018-04-16T11:18:15.650064Z"
    }
   },
   "outputs": [
    {
     "name": "stderr",
     "output_type": "stream",
     "text": [
      "/home/benjamin/anaconda3/lib/python3.5/site-packages/Bio/SearchIO/__init__.py:211: BiopythonExperimentalWarning: Bio.SearchIO is an experimental submodule which may undergo significant changes prior to its future official release.\n",
      "  BiopythonExperimentalWarning)\n"
     ]
    }
   ],
   "source": [
    "%matplotlib inline\n",
    "import pandas as pd\n",
    "import os\n",
    "import re\n",
    "from Bio import SeqIO\n",
    "import pysam\n",
    "from Bio.SeqRecord import SeqRecord\n",
    "from Bio.Seq import Seq\n",
    "from Bio import SearchIO\n",
    "from pybedtools import BedTool\n",
    "import numpy as np\n",
    "import pybedtools\n",
    "import multiprocessing\n",
    "import re\n",
    "import time\n",
    "import matplotlib.pyplot as plt\n",
    "import json\n",
    "from ipywidgets import widgets\n",
    "from IPython.display import display\n",
    "from sklearn.externals.joblib import Parallel, delayed\n",
    "import seaborn as sns\n",
    "import matplotlib\n",
    "import subprocess"
   ]
  },
  {
   "cell_type": "markdown",
   "metadata": {},
   "source": [
    "## Lambda phage"
   ]
  },
  {
   "cell_type": "raw",
   "metadata": {},
   "source": [
    "Cut with two RNPs as described in the ONT protocol. Run for about 4 hours on fresh flow cell with 1000 pores initially.\n",
    "\n",
    "For the first start I got a drop of about to 700 pores after and much in adapters. This improved after a restart after one hour. Overall the in strand was about 170 after the 1 hour restart and pore occupancy around 75%."
   ]
  },
  {
   "cell_type": "code",
   "execution_count": 5,
   "metadata": {
    "ExecuteTime": {
     "end_time": "2018-04-16T11:25:44.645353Z",
     "start_time": "2018-04-16T11:25:44.641036Z"
    },
    "collapsed": true
   },
   "outputs": [],
   "source": [
    "L_base_folder = '/home/benjamin/MinION/enrichment/Cpf1/lambda_control/12042018_lambda_cpf1'"
   ]
  },
  {
   "cell_type": "code",
   "execution_count": 20,
   "metadata": {
    "ExecuteTime": {
     "end_time": "2018-04-16T11:42:18.600573Z",
     "start_time": "2018-04-16T11:42:18.593834Z"
    },
    "collapsed": true
   },
   "outputs": [],
   "source": [
    "cov_fn = os.path.join(L_base_folder, 'minimap2', '12042018_lambda_cpf1_pass.fastq..bam.aa.cov')\n",
    "seq_sum_fn =  os.path.join(L_base_folder, 'fastq_only', '12042018_lambda_cpf1_sequencing_summary.txt')"
   ]
  },
  {
   "cell_type": "code",
   "execution_count": 21,
   "metadata": {
    "ExecuteTime": {
     "end_time": "2018-04-16T11:42:48.888325Z",
     "start_time": "2018-04-16T11:42:48.098887Z"
    },
    "collapsed": true
   },
   "outputs": [],
   "source": [
    "seq_sum_df = pd.read_csv(seq_sum_fn, sep='\\t')"
   ]
  },
  {
   "cell_type": "code",
   "execution_count": 22,
   "metadata": {
    "ExecuteTime": {
     "end_time": "2018-04-16T11:42:58.230923Z",
     "start_time": "2018-04-16T11:42:58.222712Z"
    }
   },
   "outputs": [
    {
     "data": {
      "text/plain": [
       "Index(['filename', 'read_id', 'run_id', 'channel', 'start_time', 'duration',\n",
       "       'num_events', 'passes_filtering', 'template_start',\n",
       "       'num_events_template', 'template_duration', 'num_called_template',\n",
       "       'sequence_length_template', 'mean_qscore_template',\n",
       "       'strand_score_template', 'calibration_strand_genome_template',\n",
       "       'calibration_strand_identity_template',\n",
       "       'calibration_strand_accuracy_template', 'aligned_speed_bps_template'],\n",
       "      dtype='object')"
      ]
     },
     "execution_count": 22,
     "metadata": {},
     "output_type": "execute_result"
    }
   ],
   "source": [
    "seq_sum_df.columns"
   ]
  },
  {
   "cell_type": "code",
   "execution_count": 141,
   "metadata": {
    "ExecuteTime": {
     "end_time": "2018-04-16T13:01:45.678800Z",
     "start_time": "2018-04-16T13:01:45.654328Z"
    }
   },
   "outputs": [],
   "source": [
    "seq_sum_pdf = seq_sum_df.pivot_table(values='sequence_length_template', \\\n",
    "                       columns=['passes_filtering'], aggfunc=[np.sum, np.count_nonzero])"
   ]
  },
  {
   "cell_type": "code",
   "execution_count": 142,
   "metadata": {
    "ExecuteTime": {
     "end_time": "2018-04-16T13:01:46.161619Z",
     "start_time": "2018-04-16T13:01:46.149261Z"
    }
   },
   "outputs": [],
   "source": [
    "seq_sum_pdf.rename(columns={'sum': 'Throughput[1e6 bp]', 'count_nonzero': 'number_of_reads'},inplace=True)\n",
    "seq_sum_pdf['Throughput[1e6 bp]'] = seq_sum_pdf['Throughput[1e6 bp]']/1e6"
   ]
  },
  {
   "cell_type": "code",
   "execution_count": 143,
   "metadata": {
    "ExecuteTime": {
     "end_time": "2018-04-16T13:01:46.775223Z",
     "start_time": "2018-04-16T13:01:46.740414Z"
    }
   },
   "outputs": [],
   "source": [
    "L_cov_df = pd.read_csv(cov_fn, header = None, sep='\\t', names=['contig', 'position', 'cov'])"
   ]
  },
  {
   "cell_type": "code",
   "execution_count": 144,
   "metadata": {
    "ExecuteTime": {
     "end_time": "2018-04-16T13:01:47.287694Z",
     "start_time": "2018-04-16T13:01:47.278891Z"
    },
    "collapsed": true
   },
   "outputs": [],
   "source": [
    "font = {'family' : 'normal',\n",
    "        'weight' : 'bold',\n",
    "        'size'   : 20}\n",
    "label_config_x = {'fontsize'            : 'large',\n",
    "      'verticalalignment'   : 'top',\n",
    "      'horizontalalignment' : 'center'\n",
    "      }\n",
    "label_config_y = {'fontsize'            : 'large',\n",
    "      'verticalalignment'   : 'bottom',\n",
    "      'horizontalalignment' : 'center'\n",
    "      }\n",
    "matplotlib.rc('font', **font)"
   ]
  },
  {
   "cell_type": "code",
   "execution_count": 145,
   "metadata": {
    "ExecuteTime": {
     "end_time": "2018-04-16T13:01:49.475363Z",
     "start_time": "2018-04-16T13:01:48.055741Z"
    }
   },
   "outputs": [
    {
     "data": {
      "text/plain": [
       "<matplotlib.legend.Legend at 0x7fdf143b14e0>"
      ]
     },
     "execution_count": 145,
     "metadata": {},
     "output_type": "execute_result"
    },
    {
     "name": "stderr",
     "output_type": "stream",
     "text": [
      "/home/benjamin/anaconda3/lib/python3.5/site-packages/matplotlib/font_manager.py:1297: UserWarning: findfont: Font family ['normal'] not found. Falling back to DejaVu Sans\n",
      "  (prop.get_family(), self.defaultFamily[fontext]))\n"
     ]
    },
    {
     "data": {
      "image/png": "[encoded data removed]",
      "text/plain": [
       "<matplotlib.figure.Figure at 0x7fdf16c2b550>"
      ]
     },
     "metadata": {},
     "output_type": "display_data"
    }
   ],
   "source": [
    "fig, ax = plt.subplots(1,1, figsize=(12,8))\n",
    "L_cov_df.plot(x = 'position', y='cov', kind='line', ax=ax)\n",
    "plt.axvline(x=13293, label='Cpf1_Lam_13293_CCAC+', c='r')\n",
    "plt.axvline(x=45189, label='Cpf1_Lam_45189_CAGA-', c='k')\n",
    "plt.ylabel('Coverage')\n",
    "plt.legend()"
   ]
  },
  {
   "cell_type": "code",
   "execution_count": 146,
   "metadata": {
    "ExecuteTime": {
     "end_time": "2018-04-16T13:01:49.491906Z",
     "start_time": "2018-04-16T13:01:49.477776Z"
    }
   },
   "outputs": [
    {
     "data": {
      "text/html": [
       "<div>\n",
       "<style>\n",
       "    .dataframe thead tr:only-child th {\n",
       "        text-align: right;\n",
       "    }\n",
       "\n",
       "    .dataframe thead th {\n",
       "        text-align: left;\n",
       "    }\n",
       "\n",
       "    .dataframe tbody tr th {\n",
       "        vertical-align: top;\n",
       "    }\n",
       "</style>\n",
       "<table border=\"1\" class=\"dataframe\">\n",
       "  <thead>\n",
       "    <tr>\n",
       "      <th></th>\n",
       "      <th colspan=\"2\" halign=\"left\">Throughput[1e6 bp]</th>\n",
       "      <th colspan=\"2\" halign=\"left\">number_of_reads</th>\n",
       "    </tr>\n",
       "    <tr>\n",
       "      <th>passes_filtering</th>\n",
       "      <th>False</th>\n",
       "      <th>True</th>\n",
       "      <th>False</th>\n",
       "      <th>True</th>\n",
       "    </tr>\n",
       "  </thead>\n",
       "  <tbody>\n",
       "    <tr>\n",
       "      <th>sequence_length_template</th>\n",
       "      <td>62.751614</td>\n",
       "      <td>680.293368</td>\n",
       "      <td>8986</td>\n",
       "      <td>69097</td>\n",
       "    </tr>\n",
       "  </tbody>\n",
       "</table>\n",
       "</div>"
      ],
      "text/plain": [
       "                         Throughput[1e6 bp]             number_of_reads       \n",
       "passes_filtering                      False       True            False  True \n",
       "sequence_length_template          62.751614  680.293368            8986  69097"
      ]
     },
     "execution_count": 146,
     "metadata": {},
     "output_type": "execute_result"
    }
   ],
   "source": [
    "#quick total output summary of the lambda run from the sequence summary file\n",
    "seq_sum_pdf"
   ]
  },
  {
   "cell_type": "code",
   "execution_count": 111,
   "metadata": {
    "ExecuteTime": {
     "end_time": "2018-04-16T12:23:49.612054Z",
     "start_time": "2018-04-16T12:23:49.605811Z"
    }
   },
   "outputs": [],
   "source": [
    "ave_e_L_13293 = (L_cov_df.iloc[13293:16293, 2].sum()/3000) / (L_cov_df.iloc[10000:13000, 2].sum()/3000) \n",
    "ave_e_L_45189 = (L_cov_df.iloc[41189 :45189 , 2].sum()/4000)/ (L_cov_df.iloc[45189:47189, 2].sum()/2000) "
   ]
  },
  {
   "cell_type": "code",
   "execution_count": 112,
   "metadata": {
    "ExecuteTime": {
     "end_time": "2018-04-16T12:23:49.616576Z",
     "start_time": "2018-04-16T12:23:49.614012Z"
    },
    "collapsed": true
   },
   "outputs": [],
   "source": [
    "#The sequence coverage was calculated by samtools -depth\n",
    "#function which may not account for gaps in the alignment proper"
   ]
  },
  {
   "cell_type": "code",
   "execution_count": 113,
   "metadata": {
    "ExecuteTime": {
     "end_time": "2018-04-16T12:23:49.947974Z",
     "start_time": "2018-04-16T12:23:49.942873Z"
    }
   },
   "outputs": [
    {
     "name": "stdout",
     "output_type": "stream",
     "text": [
      "The enrichment with Cpf1_Lam_13293_CCAC+ is about 15.45\n",
      "The enrichment with Cpf1_Lam_45189 is about 15.16\n"
     ]
    }
   ],
   "source": [
    "print(\"The enrichment with Cpf1_Lam_13293_CCAC+ is about %.2f\"% ave_e_L_13293)\n",
    "print('The enrichment with Cpf1_Lam_45189 is about %.2f' % ave_e_L_45189)"
   ]
  },
  {
   "cell_type": "markdown",
   "metadata": {},
   "source": [
    "This graph shows the sequence coverage per position of the lambda phage genome of all pass reads. In total I generated 64789 pass reads and 8486 fail reads with \n",
    "As far as I remember the Cpf1_Lam_13293_CCAC+ RNP cut was not as successful on the amplicon as the Cpf1_Lam_45189_CAGA-. Needs to be double checked"
   ]
  },
  {
   "cell_type": "markdown",
   "metadata": {},
   "source": [
    "## Second experiment with wheat enrichment sequencing\n",
    "The approach was unsheared DNA with two RNPs on either side of the T-DNA insertion. Two independent reactions with 10ug DNA, each with one RNP cutting on one side, were pooled after the cutting. Adapters were ligated on the pooled reaction which was about 12ug before ligation and 10ug loaded on the flowcell.\n",
    "\n",
    "The flow cell looked good initially but I introduced a small bubble just before loading. Damn it. Still avail pores were about 1100 at the start of the run. After 4 hours restart still 980. In strand was running at about 20-30 at this point in time. The reaction was run for the full run.\n",
    "\n",
    "Two of the RNP complexes could be confirmed to cut on the amplicons for the other two the amplicon PCR wasn't working and it needs to be done again."
   ]
  },
  {
   "cell_type": "code",
   "execution_count": 114,
   "metadata": {
    "ExecuteTime": {
     "end_time": "2018-04-16T12:23:51.280098Z",
     "start_time": "2018-04-16T12:23:51.275537Z"
    },
    "collapsed": true
   },
   "outputs": [],
   "source": [
    "W_base_folder = '/home/benjamin/MinION/enrichment/Cpf1/13042018_wheat/13042018_wheat_cpf1'"
   ]
  },
  {
   "cell_type": "code",
   "execution_count": 115,
   "metadata": {
    "ExecuteTime": {
     "end_time": "2018-04-16T12:23:51.688277Z",
     "start_time": "2018-04-16T12:23:51.683373Z"
    },
    "collapsed": true
   },
   "outputs": [],
   "source": [
    "w_seq_sum_fn = os.path.join(W_base_folder, 'fastq_only', '13042018_wheat_cpf1_bar_sequencing_summary.txt')"
   ]
  },
  {
   "cell_type": "code",
   "execution_count": 118,
   "metadata": {
    "ExecuteTime": {
     "end_time": "2018-04-16T12:24:08.007222Z",
     "start_time": "2018-04-16T12:24:06.921225Z"
    }
   },
   "outputs": [],
   "source": [
    "w_seq_sum_df = pd.read_csv(w_seq_sum_fn, sep='\\t')"
   ]
  },
  {
   "cell_type": "code",
   "execution_count": 130,
   "metadata": {
    "ExecuteTime": {
     "end_time": "2018-04-16T12:25:46.229062Z",
     "start_time": "2018-04-16T12:25:46.196066Z"
    }
   },
   "outputs": [],
   "source": [
    "w_seq_sum_pdf = w_seq_sum_df.pivot_table(values='sequence_length_template', \\\n",
    "                       columns=['passes_filtering'], aggfunc=[np.sum, np.count_nonzero])"
   ]
  },
  {
   "cell_type": "code",
   "execution_count": 134,
   "metadata": {
    "ExecuteTime": {
     "end_time": "2018-04-16T12:27:18.778963Z",
     "start_time": "2018-04-16T12:27:18.769568Z"
    }
   },
   "outputs": [
    {
     "data": {
      "text/plain": [
       "Index(['filename', 'read_id', 'run_id', 'channel', 'start_time', 'duration',\n",
       "       'num_events', 'passes_filtering', 'template_start',\n",
       "       'num_events_template', 'template_duration', 'num_called_template',\n",
       "       'sequence_length_template', 'mean_qscore_template',\n",
       "       'strand_score_template', 'calibration_strand_genome_template',\n",
       "       'calibration_strand_identity_template',\n",
       "       'calibration_strand_accuracy_template', 'aligned_speed_bps_template',\n",
       "       'barcode_arrangement', 'barcode_score', 'barcode_full_arrangement',\n",
       "       'front_score', 'rear_score', 'front_begin_index',\n",
       "       'front_foundseq_length', 'rear_end_index', 'rear_foundseq_length',\n",
       "       'kit', 'variant'],\n",
       "      dtype='object')"
      ]
     },
     "execution_count": 134,
     "metadata": {},
     "output_type": "execute_result"
    }
   ],
   "source": [
    "w_seq_sum_df.columns"
   ]
  },
  {
   "cell_type": "code",
   "execution_count": 135,
   "metadata": {
    "ExecuteTime": {
     "end_time": "2018-04-16T12:28:16.736044Z",
     "start_time": "2018-04-16T12:28:16.728663Z"
    }
   },
   "outputs": [
    {
     "data": {
      "text/plain": [
       "19"
      ]
     },
     "execution_count": 135,
     "metadata": {},
     "output_type": "execute_result"
    }
   ],
   "source": [
    "columns_list = w_seq_sum_df.columns.tolist()\n",
    "columns_list.index('barcode_arrangement')"
   ]
  },
  {
   "cell_type": "code",
   "execution_count": 131,
   "metadata": {
    "ExecuteTime": {
     "end_time": "2018-04-16T12:25:46.794637Z",
     "start_time": "2018-04-16T12:25:46.775009Z"
    }
   },
   "outputs": [
    {
     "name": "stdout",
     "output_type": "stream",
     "text": [
      "This is the summary of the wheat run in pass and fail.\n"
     ]
    },
    {
     "data": {
      "text/html": [
       "<div>\n",
       "<style>\n",
       "    .dataframe thead tr:only-child th {\n",
       "        text-align: right;\n",
       "    }\n",
       "\n",
       "    .dataframe thead th {\n",
       "        text-align: left;\n",
       "    }\n",
       "\n",
       "    .dataframe tbody tr th {\n",
       "        vertical-align: top;\n",
       "    }\n",
       "</style>\n",
       "<table border=\"1\" class=\"dataframe\">\n",
       "  <thead>\n",
       "    <tr>\n",
       "      <th></th>\n",
       "      <th colspan=\"2\" halign=\"left\">Throughput[1e6 bp]</th>\n",
       "      <th colspan=\"2\" halign=\"left\">number_of_reads</th>\n",
       "    </tr>\n",
       "    <tr>\n",
       "      <th>passes_filtering</th>\n",
       "      <th>False</th>\n",
       "      <th>True</th>\n",
       "      <th>False</th>\n",
       "      <th>True</th>\n",
       "    </tr>\n",
       "  </thead>\n",
       "  <tbody>\n",
       "    <tr>\n",
       "      <th>sequence_length_template</th>\n",
       "      <td>53.598002</td>\n",
       "      <td>415.136904</td>\n",
       "      <td>12424</td>\n",
       "      <td>56571</td>\n",
       "    </tr>\n",
       "  </tbody>\n",
       "</table>\n",
       "</div>"
      ],
      "text/plain": [
       "                         Throughput[1e6 bp]             number_of_reads       \n",
       "passes_filtering                      False       True            False  True \n",
       "sequence_length_template          53.598002  415.136904           12424  56571"
      ]
     },
     "execution_count": 131,
     "metadata": {},
     "output_type": "execute_result"
    }
   ],
   "source": [
    "w_seq_sum_pdf.rename(columns={'sum': 'Throughput[1e6 bp]', 'count_nonzero': 'number_of_reads'},inplace=True)\n",
    "w_seq_sum_pdf['Throughput[1e6 bp]'] = w_seq_sum_pdf['Throughput[1e6 bp]']/1e6\n",
    "print('This is the summary of the wheat run in pass and fail.')\n",
    "w_seq_sum_pdf"
   ]
  },
  {
   "cell_type": "code",
   "execution_count": 132,
   "metadata": {
    "ExecuteTime": {
     "end_time": "2018-04-16T12:26:14.759393Z",
     "start_time": "2018-04-16T12:26:14.716318Z"
    }
   },
   "outputs": [],
   "source": [
    "w_seq_sum_pdf2 = w_seq_sum_df.pivot_table(values='sequence_length_template', \\\n",
    "                       columns=['barcode_arrangement'], aggfunc=[np.sum, np.count_nonzero])"
   ]
  },
  {
   "cell_type": "code",
   "execution_count": 133,
   "metadata": {
    "ExecuteTime": {
     "end_time": "2018-04-16T12:26:31.820144Z",
     "start_time": "2018-04-16T12:26:31.788310Z"
    }
   },
   "outputs": [
    {
     "name": "stdout",
     "output_type": "stream",
     "text": [
      "This is the summary of the wheat run in pass and fail.\n"
     ]
    },
    {
     "data": {
      "text/html": [
       "<div>\n",
       "<style>\n",
       "    .dataframe thead tr:only-child th {\n",
       "        text-align: right;\n",
       "    }\n",
       "\n",
       "    .dataframe thead th {\n",
       "        text-align: left;\n",
       "    }\n",
       "\n",
       "    .dataframe tbody tr th {\n",
       "        vertical-align: top;\n",
       "    }\n",
       "</style>\n",
       "<table border=\"1\" class=\"dataframe\">\n",
       "  <thead>\n",
       "    <tr>\n",
       "      <th></th>\n",
       "      <th colspan=\"3\" halign=\"left\">Throughput[1e6 bp]</th>\n",
       "      <th colspan=\"3\" halign=\"left\">number_of_reads</th>\n",
       "    </tr>\n",
       "    <tr>\n",
       "      <th>barcode_arrangement</th>\n",
       "      <th>barcode02</th>\n",
       "      <th>barcode03</th>\n",
       "      <th>unclassified</th>\n",
       "      <th>barcode02</th>\n",
       "      <th>barcode03</th>\n",
       "      <th>unclassified</th>\n",
       "    </tr>\n",
       "  </thead>\n",
       "  <tbody>\n",
       "    <tr>\n",
       "      <th>sequence_length_template</th>\n",
       "      <td>96.053881</td>\n",
       "      <td>23.073002</td>\n",
       "      <td>349.608023</td>\n",
       "      <td>12486</td>\n",
       "      <td>3088</td>\n",
       "      <td>53421</td>\n",
       "    </tr>\n",
       "  </tbody>\n",
       "</table>\n",
       "</div>"
      ],
      "text/plain": [
       "                         Throughput[1e6 bp]                          \\\n",
       "barcode_arrangement               barcode02  barcode03 unclassified   \n",
       "sequence_length_template          96.053881  23.073002   349.608023   \n",
       "\n",
       "                         number_of_reads                         \n",
       "barcode_arrangement            barcode02 barcode03 unclassified  \n",
       "sequence_length_template           12486      3088        53421  "
      ]
     },
     "execution_count": 133,
     "metadata": {},
     "output_type": "execute_result"
    }
   ],
   "source": [
    "w_seq_sum_pdf2.rename(columns={'sum': 'Throughput[1e6 bp]', 'count_nonzero': 'number_of_reads'},inplace=True)\n",
    "w_seq_sum_pdf2['Throughput[1e6 bp]'] = w_seq_sum_pdf2['Throughput[1e6 bp]']/1e6\n",
    "print('This is the summary of the wheat run in pass and fail.')\n",
    "w_seq_sum_pdf2"
   ]
  },
  {
   "cell_type": "code",
   "execution_count": 137,
   "metadata": {
    "ExecuteTime": {
     "end_time": "2018-04-16T12:31:27.577298Z",
     "start_time": "2018-04-16T12:31:27.546325Z"
    }
   },
   "outputs": [
    {
     "data": {
      "text/plain": [
       "barcode_full_arrangement\n",
       "RBK07             1\n",
       "RBK410            1\n",
       "RBK402            1\n",
       "RBK05             2\n",
       "RBK10             4\n",
       "BC07_var2         9\n",
       "RBK04             9\n",
       "RBK02            14\n",
       "RBK03            15\n",
       "BC44_var2        15\n",
       "BC08_var2        16\n",
       "BC08_var1        18\n",
       "BC01_var1        19\n",
       "BC95_var2        19\n",
       "BC05_var2        20\n",
       "BC73_var2        21\n",
       "BC59_var2        21\n",
       "BC77_var1        21\n",
       "BC07_var1        21\n",
       "BC44_var1        22\n",
       "BC06_var2        23\n",
       "BC11_var2        23\n",
       "BC95_var1        24\n",
       "BC01_var2        24\n",
       "BC77_var2        25\n",
       "BC51_var2        26\n",
       "BC73_var1        27\n",
       "BC68_var2        27\n",
       "BC33_var2        27\n",
       "BC59_var1        27\n",
       "              ...  \n",
       "RAB12_var2      437\n",
       "LWB02_var2      446\n",
       "NB08_var2       462\n",
       "LWB04_var2      463\n",
       "NB01_var1       478\n",
       "NB05_var2       488\n",
       "NB10_var1       515\n",
       "RAB04_var1      542\n",
       "NB01_var2       606\n",
       "NB11_var1       675\n",
       "RAB02_var2      687\n",
       "NB10_var2       697\n",
       "NB09_var1       723\n",
       "RAB02_var1      755\n",
       "NB11_var2       815\n",
       "LWB02_var1      837\n",
       "NB04_var1       842\n",
       "NB08_var1       868\n",
       "NB09_var2       870\n",
       "NB06_var2       924\n",
       "RAB04_var2      990\n",
       "NB06_var1      1055\n",
       "NB04_var2      1084\n",
       "NB12_var2      1176\n",
       "NB03_var2      1711\n",
       "NB12_var1      1854\n",
       "NB03_var1      4007\n",
       "NB02_var2      5446\n",
       "NB02_var1     13848\n",
       "n/a           25718\n",
       "Name: filename, Length: 285, dtype: int64"
      ]
     },
     "execution_count": 137,
     "metadata": {},
     "output_type": "execute_result"
    }
   ],
   "source": [
    "w_seq_sum_df.groupby('barcode_full_arrangement')['filename'].count().sort_values()"
   ]
  },
  {
   "cell_type": "markdown",
   "metadata": {
    "ExecuteTime": {
     "end_time": "2018-04-16T12:34:39.552436Z",
     "start_time": "2018-04-16T12:34:39.523164Z"
    }
   },
   "source": [
    "List of potential hits by looking at results on the command line:\n",
    "\n",
    "This is based on the fact that reads steaming from the cut side should align to the insert side at the beginning of the read and not randomly in the middle.\n",
    "\n",
    "minimap2 paf\n",
    "'046c36f5-5cb5-4768-9c85-06cd3227138f' has barcode NB02 but should be NB03\n",
    "\n",
    "blast and minimap2\n",
    "'3df7f63f-11f4-4d65-b126-02e49be97bd9' has barcode NB03 and should be NB03\n",
    "\n",
    "Need to look where they map in the wheat genome to find insertion side."
   ]
  },
  {
   "cell_type": "markdown",
   "metadata": {},
   "source": [
    "I think it will be worth assembling the two barcodes indepedently as they seems to be a pattern. More later."
   ]
  },
  {
   "cell_type": "code",
   "execution_count": null,
   "metadata": {
    "collapsed": true
   },
   "outputs": [],
   "source": []
  }
 ],
 "metadata": {
  "kernelspec": {
   "display_name": "Python [default]",
   "language": "python",
   "name": "python3"
  },
  "language_info": {
   "codemirror_mode": {
    "name": "ipython",
    "version": 3
   },
   "file_extension": ".py",
   "mimetype": "text/x-python",
   "name": "python",
   "nbconvert_exporter": "python",
   "pygments_lexer": "ipython3",
   "version": "3.5.3"
  },
  "toc": {
   "nav_menu": {},
   "number_sections": true,
   "sideBar": true,
   "skip_h1_title": false,
   "title_cell": "Table of Contents",
   "title_sidebar": "Contents",
   "toc_cell": false,
   "toc_position": {},
   "toc_section_display": true,
   "toc_window_display": false
  }
 },
 "nbformat": 4,
 "nbformat_minor": 2
}
